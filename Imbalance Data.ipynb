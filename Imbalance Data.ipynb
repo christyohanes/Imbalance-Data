{
 "cells": [
  {
   "cell_type": "markdown",
   "metadata": {},
   "source": [
    "# Imbalance Data\n",
    "\n",
    "Problem imbalance merupakan problem ketika dalam suat dataset terdapat perbedaan jumlah yang signifikan antar kelas dalam suatu dataset. Fokus kita pada praktikum ini adalah melakukan oversampling.\n",
    "\n",
    "Pada praktikum ini kita ankan menggunakan library dari https://imbalanced-learn.org/ yakni imblearn untuk melakukan oversampling maupun undersampling\n",
    "\n",
    "Oversampling kita gunakan https://imbalanced-learn.org/stable/over_sampling.html sedangkan Jika teman-teman ingin mengeksplorasi lebih tentang undersampling, dapat ke https://imbalanced-learn.org/stable/under_sampling.html."
   ]
  },
  {
   "cell_type": "code",
   "execution_count": 2,
   "metadata": {},
   "outputs": [
    {
     "data": {
      "text/html": [
       "<div>\n",
       "<style scoped>\n",
       "    .dataframe tbody tr th:only-of-type {\n",
       "        vertical-align: middle;\n",
       "    }\n",
       "\n",
       "    .dataframe tbody tr th {\n",
       "        vertical-align: top;\n",
       "    }\n",
       "\n",
       "    .dataframe thead th {\n",
       "        text-align: right;\n",
       "    }\n",
       "</style>\n",
       "<table border=\"1\" class=\"dataframe\">\n",
       "  <thead>\n",
       "    <tr style=\"text-align: right;\">\n",
       "      <th></th>\n",
       "      <th>nilai1</th>\n",
       "      <th>nilai2</th>\n",
       "      <th>nilai3</th>\n",
       "      <th>hasil</th>\n",
       "    </tr>\n",
       "  </thead>\n",
       "  <tbody>\n",
       "    <tr>\n",
       "      <th>0</th>\n",
       "      <td>47.78</td>\n",
       "      <td>80.0</td>\n",
       "      <td>49.6</td>\n",
       "      <td>0</td>\n",
       "    </tr>\n",
       "    <tr>\n",
       "      <th>1</th>\n",
       "      <td>56.67</td>\n",
       "      <td>80.0</td>\n",
       "      <td>66.7</td>\n",
       "      <td>0</td>\n",
       "    </tr>\n",
       "    <tr>\n",
       "      <th>2</th>\n",
       "      <td>58.22</td>\n",
       "      <td>82.0</td>\n",
       "      <td>83.8</td>\n",
       "      <td>0</td>\n",
       "    </tr>\n",
       "    <tr>\n",
       "      <th>3</th>\n",
       "      <td>73.11</td>\n",
       "      <td>82.0</td>\n",
       "      <td>73.9</td>\n",
       "      <td>0</td>\n",
       "    </tr>\n",
       "    <tr>\n",
       "      <th>4</th>\n",
       "      <td>91.00</td>\n",
       "      <td>82.0</td>\n",
       "      <td>90.1</td>\n",
       "      <td>1</td>\n",
       "    </tr>\n",
       "  </tbody>\n",
       "</table>\n",
       "</div>"
      ],
      "text/plain": [
       "   nilai1  nilai2  nilai3  hasil\n",
       "0   47.78    80.0    49.6      0\n",
       "1   56.67    80.0    66.7      0\n",
       "2   58.22    82.0    83.8      0\n",
       "3   73.11    82.0    73.9      0\n",
       "4   91.00    82.0    90.1      1"
      ]
     },
     "execution_count": 2,
     "metadata": {},
     "output_type": "execute_result"
    }
   ],
   "source": [
    "import pandas as pd\n",
    "\n",
    "var = ['nilai1','nilai2', 'nilai3','hasil']\n",
    "# membaca data dengan library panda \n",
    "data=pd.read_csv('nilai_mhs_imb.csv', names=var)\n",
    "data.head()"
   ]
  },
  {
   "cell_type": "code",
   "execution_count": 5,
   "metadata": {},
   "outputs": [
    {
     "data": {
      "text/plain": [
       "0    32\n",
       "1    13\n",
       "Name: hasil, dtype: int64"
      ]
     },
     "execution_count": 5,
     "metadata": {},
     "output_type": "execute_result"
    }
   ],
   "source": [
    "data['hasil'].value_counts()"
   ]
  },
  {
   "cell_type": "code",
   "execution_count": 6,
   "metadata": {},
   "outputs": [
    {
     "data": {
      "image/png": "[encoded data removed]",
      "text/plain": [
       "<Figure size 360x360 with 1 Axes>"
      ]
     },
     "metadata": {
      "needs_background": "light"
     },
     "output_type": "display_data"
    }
   ],
   "source": [
    "import matplotlib.pyplot as plt\n",
    "\n",
    "fig=plt.figure(figsize=(5,5))\n",
    "plt.scatter(data['nilai1'], data['nilai3'], c=data['hasil'], alpha=0.5, edgecolor='k', cmap='viridis')\n",
    "for idx in enumerate(data['hasil']):\n",
    "  plt.xlim(0,100)\n",
    "  plt.ylim(0,110)\n",
    "  plt.show    "
   ]
  },
  {
   "cell_type": "code",
   "execution_count": 9,
   "metadata": {},
   "outputs": [],
   "source": [
    "x=data[['nilai1','nilai2','nilai3']]\n",
    "y=data['hasil']\n",
    "\n",
    "from imblearn.over_sampling import SMOTE\n",
    "x_resampled, y_resampled = SMOTE().fit_resample(x, y)   "
   ]
  },
  {
   "cell_type": "code",
   "execution_count": 11,
   "metadata": {},
   "outputs": [
    {
     "name": "stdout",
     "output_type": "stream",
     "text": [
      "32\n",
      "32\n"
     ]
    }
   ],
   "source": [
    "import numpy as np\n",
    "\n",
    "print(np.count_nonzero(y_resampled == 0))\n",
    "print(np.count_nonzero(y_resampled == 1)) "
   ]
  },
  {
   "cell_type": "code",
   "execution_count": 14,
   "metadata": {},
   "outputs": [
    {
     "data": {
      "image/png": "[encoded data removed]",
      "text/plain": [
       "<Figure size 360x360 with 1 Axes>"
      ]
     },
     "metadata": {
      "needs_background": "light"
     },
     "output_type": "display_data"
    }
   ],
   "source": [
    "fig=plt.figure(figsize=(5,5))\n",
    "plt.scatter(x_resampled.iloc[:,0], x_resampled.iloc[:,2], c=y_resampled, alpha=0.5, edgecolor='k', cmap='viridis')\n",
    "for idx in enumerate(y_resampled):\n",
    "    plt.xlim(0,100)\n",
    "    plt.ylim(0,110)\n",
    "    plt.show "
   ]
  },
  {
   "cell_type": "code",
   "execution_count": null,
   "metadata": {},
   "outputs": [],
   "source": []
  }
 ],
 "metadata": {
  "kernelspec": {
   "display_name": "Python 3",
   "language": "python",
   "name": "python3"
  },
  "language_info": {
   "codemirror_mode": {
    "name": "ipython",
    "version": 3
   },
   "file_extension": ".py",
   "mimetype": "text/x-python",
   "name": "python",
   "nbconvert_exporter": "python",
   "pygments_lexer": "ipython3",
   "version": "3.7.7"
  }
 },
 "nbformat": 4,
 "nbformat_minor": 4
}
